{
 "cells": [
  {
   "cell_type": "code",
   "execution_count": 31,
   "id": "01ba2655-c152-4ba2-9cd3-d60230929b43",
   "metadata": {},
   "outputs": [],
   "source": [
    "import pandas as pd\n",
    "import numpy as np\n",
    "import matplotlib.pyplot as plt\n",
    "import seaborn as sns\n",
    "import plotly.express as px"
   ]
  },
  {
   "cell_type": "code",
   "execution_count": 7,
   "id": "f465c17c-8aa4-4157-a4e6-b9b56db3064c",
   "metadata": {},
   "outputs": [
    {
     "data": {
      "text/html": [
       "<div>\n",
       "<style scoped>\n",
       "    .dataframe tbody tr th:only-of-type {\n",
       "        vertical-align: middle;\n",
       "    }\n",
       "\n",
       "    .dataframe tbody tr th {\n",
       "        vertical-align: top;\n",
       "    }\n",
       "\n",
       "    .dataframe thead th {\n",
       "        text-align: right;\n",
       "    }\n",
       "</style>\n",
       "<table border=\"1\" class=\"dataframe\">\n",
       "  <thead>\n",
       "    <tr style=\"text-align: right;\">\n",
       "      <th></th>\n",
       "      <th>playerID</th>\n",
       "      <th>CONCAT(Player.nameFirst, ' ', Player.nameLast)</th>\n",
       "      <th>birthCountry</th>\n",
       "      <th>max_salary</th>\n",
       "      <th>teamID</th>\n",
       "    </tr>\n",
       "  </thead>\n",
       "  <tbody>\n",
       "    <tr>\n",
       "      <th>0</th>\n",
       "      <td>aardsda01</td>\n",
       "      <td>David Aardsma</td>\n",
       "      <td>USA</td>\n",
       "      <td>4500000</td>\n",
       "      <td>SFN</td>\n",
       "    </tr>\n",
       "    <tr>\n",
       "      <th>1</th>\n",
       "      <td>aasedo01</td>\n",
       "      <td>Don Aase</td>\n",
       "      <td>USA</td>\n",
       "      <td>675000</td>\n",
       "      <td>BAL</td>\n",
       "    </tr>\n",
       "    <tr>\n",
       "      <th>2</th>\n",
       "      <td>abadan01</td>\n",
       "      <td>Andy Abad</td>\n",
       "      <td>USA</td>\n",
       "      <td>327000</td>\n",
       "      <td>CIN</td>\n",
       "    </tr>\n",
       "    <tr>\n",
       "      <th>3</th>\n",
       "      <td>abadfe01</td>\n",
       "      <td>Fernando Abad</td>\n",
       "      <td>D.R.</td>\n",
       "      <td>1087500</td>\n",
       "      <td>HOU</td>\n",
       "    </tr>\n",
       "    <tr>\n",
       "      <th>4</th>\n",
       "      <td>abbotje01</td>\n",
       "      <td>Jeff Abbott</td>\n",
       "      <td>USA</td>\n",
       "      <td>300000</td>\n",
       "      <td>CHA</td>\n",
       "    </tr>\n",
       "    <tr>\n",
       "      <th>...</th>\n",
       "      <td>...</td>\n",
       "      <td>...</td>\n",
       "      <td>...</td>\n",
       "      <td>...</td>\n",
       "      <td>...</td>\n",
       "    </tr>\n",
       "    <tr>\n",
       "      <th>995</th>\n",
       "      <td>crosbbo01</td>\n",
       "      <td>Bobby Crosby</td>\n",
       "      <td>USA</td>\n",
       "      <td>5300000</td>\n",
       "      <td>OAK</td>\n",
       "    </tr>\n",
       "    <tr>\n",
       "      <th>996</th>\n",
       "      <td>crosbbu01</td>\n",
       "      <td>Bubba Crosby</td>\n",
       "      <td>USA</td>\n",
       "      <td>354250</td>\n",
       "      <td>NYA</td>\n",
       "    </tr>\n",
       "    <tr>\n",
       "      <th>997</th>\n",
       "      <td>crottmi01</td>\n",
       "      <td>Michael Crotta</td>\n",
       "      <td>USA</td>\n",
       "      <td>414000</td>\n",
       "      <td>PIT</td>\n",
       "    </tr>\n",
       "    <tr>\n",
       "      <th>998</th>\n",
       "      <td>crousri01</td>\n",
       "      <td>Rich Croushore</td>\n",
       "      <td>USA</td>\n",
       "      <td>255000</td>\n",
       "      <td>SLN</td>\n",
       "    </tr>\n",
       "    <tr>\n",
       "      <th>999</th>\n",
       "      <td>crowaa01</td>\n",
       "      <td>Aaron Crow</td>\n",
       "      <td>USA</td>\n",
       "      <td>1600000</td>\n",
       "      <td>KCA</td>\n",
       "    </tr>\n",
       "  </tbody>\n",
       "</table>\n",
       "<p>1000 rows × 5 columns</p>\n",
       "</div>"
      ],
      "text/plain": [
       "      playerID CONCAT(Player.nameFirst, ' ', Player.nameLast) birthCountry  \\\n",
       "0    aardsda01                                  David Aardsma          USA   \n",
       "1     aasedo01                                       Don Aase          USA   \n",
       "2     abadan01                                      Andy Abad          USA   \n",
       "3     abadfe01                                  Fernando Abad         D.R.   \n",
       "4    abbotje01                                    Jeff Abbott          USA   \n",
       "..         ...                                            ...          ...   \n",
       "995  crosbbo01                                   Bobby Crosby          USA   \n",
       "996  crosbbu01                                   Bubba Crosby          USA   \n",
       "997  crottmi01                                 Michael Crotta          USA   \n",
       "998  crousri01                                 Rich Croushore          USA   \n",
       "999   crowaa01                                     Aaron Crow          USA   \n",
       "\n",
       "     max_salary teamID  \n",
       "0       4500000    SFN  \n",
       "1        675000    BAL  \n",
       "2        327000    CIN  \n",
       "3       1087500    HOU  \n",
       "4        300000    CHA  \n",
       "..          ...    ...  \n",
       "995     5300000    OAK  \n",
       "996      354250    NYA  \n",
       "997      414000    PIT  \n",
       "998      255000    SLN  \n",
       "999     1600000    KCA  \n",
       "\n",
       "[1000 rows x 5 columns]"
      ]
     },
     "execution_count": 7,
     "metadata": {},
     "output_type": "execute_result"
    }
   ],
   "source": [
    "df_salaries = pd.read_csv (\"Max_salary_per_player.csv\")\n",
    "df_salaries"
   ]
  },
  {
   "cell_type": "code",
   "execution_count": 10,
   "id": "bc0acd5d-a379-4442-a803-2db7fd1045c6",
   "metadata": {},
   "outputs": [
    {
     "data": {
      "text/plain": [
       "playerID                                          object\n",
       "CONCAT(Player.nameFirst, ' ', Player.nameLast)    object\n",
       "birthCountry                                      object\n",
       "max_salary                                         int64\n",
       "teamID                                            object\n",
       "dtype: object"
      ]
     },
     "execution_count": 10,
     "metadata": {},
     "output_type": "execute_result"
    }
   ],
   "source": [
    "df_salaries.dtypes"
   ]
  },
  {
   "cell_type": "code",
   "execution_count": 11,
   "id": "fe6b0272-1b84-4d35-9829-97b326e1bcd8",
   "metadata": {},
   "outputs": [
    {
     "data": {
      "text/html": [
       "<div>\n",
       "<style scoped>\n",
       "    .dataframe tbody tr th:only-of-type {\n",
       "        vertical-align: middle;\n",
       "    }\n",
       "\n",
       "    .dataframe tbody tr th {\n",
       "        vertical-align: top;\n",
       "    }\n",
       "\n",
       "    .dataframe thead th {\n",
       "        text-align: right;\n",
       "    }\n",
       "</style>\n",
       "<table border=\"1\" class=\"dataframe\">\n",
       "  <thead>\n",
       "    <tr style=\"text-align: right;\">\n",
       "      <th></th>\n",
       "      <th>playerID</th>\n",
       "      <th>CONCAT(Player.nameFirst, ' ', Player.nameLast)</th>\n",
       "      <th>birthCountry</th>\n",
       "      <th>max_salary</th>\n",
       "      <th>teamID</th>\n",
       "    </tr>\n",
       "  </thead>\n",
       "  <tbody>\n",
       "    <tr>\n",
       "      <th>0</th>\n",
       "      <td>aardsda01</td>\n",
       "      <td>David Aardsma</td>\n",
       "      <td>USA</td>\n",
       "      <td>4500000</td>\n",
       "      <td>SFN</td>\n",
       "    </tr>\n",
       "    <tr>\n",
       "      <th>1</th>\n",
       "      <td>aasedo01</td>\n",
       "      <td>Don Aase</td>\n",
       "      <td>USA</td>\n",
       "      <td>675000</td>\n",
       "      <td>BAL</td>\n",
       "    </tr>\n",
       "    <tr>\n",
       "      <th>2</th>\n",
       "      <td>abadan01</td>\n",
       "      <td>Andy Abad</td>\n",
       "      <td>USA</td>\n",
       "      <td>327000</td>\n",
       "      <td>CIN</td>\n",
       "    </tr>\n",
       "    <tr>\n",
       "      <th>3</th>\n",
       "      <td>abadfe01</td>\n",
       "      <td>Fernando Abad</td>\n",
       "      <td>D.R.</td>\n",
       "      <td>1087500</td>\n",
       "      <td>HOU</td>\n",
       "    </tr>\n",
       "    <tr>\n",
       "      <th>4</th>\n",
       "      <td>abbotje01</td>\n",
       "      <td>Jeff Abbott</td>\n",
       "      <td>USA</td>\n",
       "      <td>300000</td>\n",
       "      <td>CHA</td>\n",
       "    </tr>\n",
       "  </tbody>\n",
       "</table>\n",
       "</div>"
      ],
      "text/plain": [
       "    playerID CONCAT(Player.nameFirst, ' ', Player.nameLast) birthCountry  \\\n",
       "0  aardsda01                                  David Aardsma          USA   \n",
       "1   aasedo01                                       Don Aase          USA   \n",
       "2   abadan01                                      Andy Abad          USA   \n",
       "3   abadfe01                                  Fernando Abad         D.R.   \n",
       "4  abbotje01                                    Jeff Abbott          USA   \n",
       "\n",
       "   max_salary teamID  \n",
       "0     4500000    SFN  \n",
       "1      675000    BAL  \n",
       "2      327000    CIN  \n",
       "3     1087500    HOU  \n",
       "4      300000    CHA  "
      ]
     },
     "execution_count": 11,
     "metadata": {},
     "output_type": "execute_result"
    }
   ],
   "source": [
    "df_salaries.head()"
   ]
  },
  {
   "cell_type": "code",
   "execution_count": 23,
   "id": "0dafbfc8-8d6a-4c6e-93cb-77805cc963ad",
   "metadata": {},
   "outputs": [
    {
     "data": {
      "text/html": [
       "<div>\n",
       "<style scoped>\n",
       "    .dataframe tbody tr th:only-of-type {\n",
       "        vertical-align: middle;\n",
       "    }\n",
       "\n",
       "    .dataframe tbody tr th {\n",
       "        vertical-align: top;\n",
       "    }\n",
       "\n",
       "    .dataframe thead th {\n",
       "        text-align: right;\n",
       "    }\n",
       "</style>\n",
       "<table border=\"1\" class=\"dataframe\">\n",
       "  <thead>\n",
       "    <tr style=\"text-align: right;\">\n",
       "      <th></th>\n",
       "      <th>playerID</th>\n",
       "      <th>Nombre Jugador</th>\n",
       "      <th>Nacionalidad</th>\n",
       "      <th>Salario</th>\n",
       "      <th>Equipo</th>\n",
       "    </tr>\n",
       "  </thead>\n",
       "  <tbody>\n",
       "    <tr>\n",
       "      <th>0</th>\n",
       "      <td>aardsda01</td>\n",
       "      <td>David Aardsma</td>\n",
       "      <td>USA</td>\n",
       "      <td>4500000</td>\n",
       "      <td>SFN</td>\n",
       "    </tr>\n",
       "    <tr>\n",
       "      <th>1</th>\n",
       "      <td>aasedo01</td>\n",
       "      <td>Don Aase</td>\n",
       "      <td>USA</td>\n",
       "      <td>675000</td>\n",
       "      <td>BAL</td>\n",
       "    </tr>\n",
       "    <tr>\n",
       "      <th>2</th>\n",
       "      <td>abadan01</td>\n",
       "      <td>Andy Abad</td>\n",
       "      <td>USA</td>\n",
       "      <td>327000</td>\n",
       "      <td>CIN</td>\n",
       "    </tr>\n",
       "    <tr>\n",
       "      <th>3</th>\n",
       "      <td>abadfe01</td>\n",
       "      <td>Fernando Abad</td>\n",
       "      <td>D.R.</td>\n",
       "      <td>1087500</td>\n",
       "      <td>HOU</td>\n",
       "    </tr>\n",
       "    <tr>\n",
       "      <th>4</th>\n",
       "      <td>abbotje01</td>\n",
       "      <td>Jeff Abbott</td>\n",
       "      <td>USA</td>\n",
       "      <td>300000</td>\n",
       "      <td>CHA</td>\n",
       "    </tr>\n",
       "    <tr>\n",
       "      <th>...</th>\n",
       "      <td>...</td>\n",
       "      <td>...</td>\n",
       "      <td>...</td>\n",
       "      <td>...</td>\n",
       "      <td>...</td>\n",
       "    </tr>\n",
       "    <tr>\n",
       "      <th>995</th>\n",
       "      <td>crosbbo01</td>\n",
       "      <td>Bobby Crosby</td>\n",
       "      <td>USA</td>\n",
       "      <td>5300000</td>\n",
       "      <td>OAK</td>\n",
       "    </tr>\n",
       "    <tr>\n",
       "      <th>996</th>\n",
       "      <td>crosbbu01</td>\n",
       "      <td>Bubba Crosby</td>\n",
       "      <td>USA</td>\n",
       "      <td>354250</td>\n",
       "      <td>NYA</td>\n",
       "    </tr>\n",
       "    <tr>\n",
       "      <th>997</th>\n",
       "      <td>crottmi01</td>\n",
       "      <td>Michael Crotta</td>\n",
       "      <td>USA</td>\n",
       "      <td>414000</td>\n",
       "      <td>PIT</td>\n",
       "    </tr>\n",
       "    <tr>\n",
       "      <th>998</th>\n",
       "      <td>crousri01</td>\n",
       "      <td>Rich Croushore</td>\n",
       "      <td>USA</td>\n",
       "      <td>255000</td>\n",
       "      <td>SLN</td>\n",
       "    </tr>\n",
       "    <tr>\n",
       "      <th>999</th>\n",
       "      <td>crowaa01</td>\n",
       "      <td>Aaron Crow</td>\n",
       "      <td>USA</td>\n",
       "      <td>1600000</td>\n",
       "      <td>KCA</td>\n",
       "    </tr>\n",
       "  </tbody>\n",
       "</table>\n",
       "<p>1000 rows × 5 columns</p>\n",
       "</div>"
      ],
      "text/plain": [
       "      playerID  Nombre Jugador Nacionalidad  Salario Equipo\n",
       "0    aardsda01   David Aardsma          USA  4500000    SFN\n",
       "1     aasedo01        Don Aase          USA   675000    BAL\n",
       "2     abadan01       Andy Abad          USA   327000    CIN\n",
       "3     abadfe01   Fernando Abad         D.R.  1087500    HOU\n",
       "4    abbotje01     Jeff Abbott          USA   300000    CHA\n",
       "..         ...             ...          ...      ...    ...\n",
       "995  crosbbo01    Bobby Crosby          USA  5300000    OAK\n",
       "996  crosbbu01    Bubba Crosby          USA   354250    NYA\n",
       "997  crottmi01  Michael Crotta          USA   414000    PIT\n",
       "998  crousri01  Rich Croushore          USA   255000    SLN\n",
       "999   crowaa01      Aaron Crow          USA  1600000    KCA\n",
       "\n",
       "[1000 rows x 5 columns]"
      ]
     },
     "execution_count": 23,
     "metadata": {},
     "output_type": "execute_result"
    }
   ],
   "source": [
    "df_salaries.columns = [\"playerID\", \"Nombre Jugador\", \"Nacionalidad\", \"Salario\", \"Equipo\"]\n",
    "df_salaries"
   ]
  },
  {
   "cell_type": "code",
   "execution_count": 41,
   "id": "da566a96-18d8-42be-955b-e52108e72c78",
   "metadata": {},
   "outputs": [
    {
     "data": {
      "image/png": "[encoded data removed]",
      "text/plain": [
       "<Figure size 432x288 with 1 Axes>"
      ]
     },
     "metadata": {
      "needs_background": "light"
     },
     "output_type": "display_data"
    }
   ],
   "source": [
    "sns.boxplot(x=df_salaries[\"Salario\"]);"
   ]
  },
  {
   "cell_type": "code",
   "execution_count": 45,
   "id": "ed974e56-5788-4619-b304-9bca34f372ef",
   "metadata": {},
   "outputs": [
    {
     "data": {
      "text/plain": [
       "2142787.071"
      ]
     },
     "execution_count": 45,
     "metadata": {},
     "output_type": "execute_result"
    }
   ],
   "source": [
    "df_salaries[\"Salario\"].mean()"
   ]
  },
  {
   "cell_type": "code",
   "execution_count": 48,
   "id": "31778186-89f1-4897-86d9-7d53a1aeb3bf",
   "metadata": {},
   "outputs": [
    {
     "data": {
      "image/png": "[encoded data removed]",
      "text/plain": [
       "<Figure size 432x288 with 1 Axes>"
      ]
     },
     "metadata": {
      "needs_background": "light"
     },
     "output_type": "display_data"
    }
   ],
   "source": [
    "sns.histplot(x=df_salaries[\"Salario\"], bins=1000);"
   ]
  },
  {
   "cell_type": "code",
   "execution_count": 34,
   "id": "dfe1d70d-5b12-4d76-bbea-1730116edbce",
   "metadata": {},
   "outputs": [
    {
     "data": {
      "text/html": [
       "<div>\n",
       "<style scoped>\n",
       "    .dataframe tbody tr th:only-of-type {\n",
       "        vertical-align: middle;\n",
       "    }\n",
       "\n",
       "    .dataframe tbody tr th {\n",
       "        vertical-align: top;\n",
       "    }\n",
       "\n",
       "    .dataframe thead th {\n",
       "        text-align: right;\n",
       "    }\n",
       "</style>\n",
       "<table border=\"1\" class=\"dataframe\">\n",
       "  <thead>\n",
       "    <tr style=\"text-align: right;\">\n",
       "      <th></th>\n",
       "      <th>playerID</th>\n",
       "      <th>Nombre Jugador</th>\n",
       "      <th>Nacionalidad</th>\n",
       "      <th>Salario</th>\n",
       "      <th>Equipo</th>\n",
       "      <th>count</th>\n",
       "    </tr>\n",
       "  </thead>\n",
       "  <tbody>\n",
       "    <tr>\n",
       "      <th>0</th>\n",
       "      <td>aardsda01</td>\n",
       "      <td>David Aardsma</td>\n",
       "      <td>USA</td>\n",
       "      <td>4500000</td>\n",
       "      <td>SFN</td>\n",
       "      <td>1</td>\n",
       "    </tr>\n",
       "    <tr>\n",
       "      <th>1</th>\n",
       "      <td>aasedo01</td>\n",
       "      <td>Don Aase</td>\n",
       "      <td>USA</td>\n",
       "      <td>675000</td>\n",
       "      <td>BAL</td>\n",
       "      <td>1</td>\n",
       "    </tr>\n",
       "    <tr>\n",
       "      <th>2</th>\n",
       "      <td>abadan01</td>\n",
       "      <td>Andy Abad</td>\n",
       "      <td>USA</td>\n",
       "      <td>327000</td>\n",
       "      <td>CIN</td>\n",
       "      <td>1</td>\n",
       "    </tr>\n",
       "    <tr>\n",
       "      <th>3</th>\n",
       "      <td>abadfe01</td>\n",
       "      <td>Fernando Abad</td>\n",
       "      <td>D.R.</td>\n",
       "      <td>1087500</td>\n",
       "      <td>HOU</td>\n",
       "      <td>1</td>\n",
       "    </tr>\n",
       "    <tr>\n",
       "      <th>4</th>\n",
       "      <td>abbotje01</td>\n",
       "      <td>Jeff Abbott</td>\n",
       "      <td>USA</td>\n",
       "      <td>300000</td>\n",
       "      <td>CHA</td>\n",
       "      <td>1</td>\n",
       "    </tr>\n",
       "    <tr>\n",
       "      <th>...</th>\n",
       "      <td>...</td>\n",
       "      <td>...</td>\n",
       "      <td>...</td>\n",
       "      <td>...</td>\n",
       "      <td>...</td>\n",
       "      <td>...</td>\n",
       "    </tr>\n",
       "    <tr>\n",
       "      <th>995</th>\n",
       "      <td>crosbbo01</td>\n",
       "      <td>Bobby Crosby</td>\n",
       "      <td>USA</td>\n",
       "      <td>5300000</td>\n",
       "      <td>OAK</td>\n",
       "      <td>1</td>\n",
       "    </tr>\n",
       "    <tr>\n",
       "      <th>996</th>\n",
       "      <td>crosbbu01</td>\n",
       "      <td>Bubba Crosby</td>\n",
       "      <td>USA</td>\n",
       "      <td>354250</td>\n",
       "      <td>NYA</td>\n",
       "      <td>1</td>\n",
       "    </tr>\n",
       "    <tr>\n",
       "      <th>997</th>\n",
       "      <td>crottmi01</td>\n",
       "      <td>Michael Crotta</td>\n",
       "      <td>USA</td>\n",
       "      <td>414000</td>\n",
       "      <td>PIT</td>\n",
       "      <td>1</td>\n",
       "    </tr>\n",
       "    <tr>\n",
       "      <th>998</th>\n",
       "      <td>crousri01</td>\n",
       "      <td>Rich Croushore</td>\n",
       "      <td>USA</td>\n",
       "      <td>255000</td>\n",
       "      <td>SLN</td>\n",
       "      <td>1</td>\n",
       "    </tr>\n",
       "    <tr>\n",
       "      <th>999</th>\n",
       "      <td>crowaa01</td>\n",
       "      <td>Aaron Crow</td>\n",
       "      <td>USA</td>\n",
       "      <td>1600000</td>\n",
       "      <td>KCA</td>\n",
       "      <td>1</td>\n",
       "    </tr>\n",
       "  </tbody>\n",
       "</table>\n",
       "<p>1000 rows × 6 columns</p>\n",
       "</div>"
      ],
      "text/plain": [
       "      playerID  Nombre Jugador Nacionalidad  Salario Equipo  count\n",
       "0    aardsda01   David Aardsma          USA  4500000    SFN      1\n",
       "1     aasedo01        Don Aase          USA   675000    BAL      1\n",
       "2     abadan01       Andy Abad          USA   327000    CIN      1\n",
       "3     abadfe01   Fernando Abad         D.R.  1087500    HOU      1\n",
       "4    abbotje01     Jeff Abbott          USA   300000    CHA      1\n",
       "..         ...             ...          ...      ...    ...    ...\n",
       "995  crosbbo01    Bobby Crosby          USA  5300000    OAK      1\n",
       "996  crosbbu01    Bubba Crosby          USA   354250    NYA      1\n",
       "997  crottmi01  Michael Crotta          USA   414000    PIT      1\n",
       "998  crousri01  Rich Croushore          USA   255000    SLN      1\n",
       "999   crowaa01      Aaron Crow          USA  1600000    KCA      1\n",
       "\n",
       "[1000 rows x 6 columns]"
      ]
     },
     "execution_count": 34,
     "metadata": {},
     "output_type": "execute_result"
    }
   ],
   "source": [
    "df_salaries_treemap = df_salaries\n",
    "df_salaries_treemap['count'] = 1\n",
    "df_salaries_treemap"
   ]
  },
  {
   "cell_type": "code",
   "execution_count": 37,
   "id": "b5634bb8-23b0-4406-9956-40ca7b8c87d5",
   "metadata": {},
   "outputs": [
    {
     "data": {
      "application/vnd.plotly.v1+json": {
       "config": {
        "plotlyServerURL": "https://plot.ly"
       },
       "data": [
        {
         "branchvalues": "total",
         "domain": {
          "x": [
           0,
           1
          ],
          "y": [
           0,
           1
          ]
         },
         "hovertemplate": "labels=%{label}<br>count=%{value}<br>parent=%{parent}<br>id=%{id}<extra></extra>",
         "ids": [
          "TEX/Afghanistan",
          "BOS/Aruba",
          "MIN/Australia",
          "MON/Australia",
          "SEA/Australia",
          "BAL/CAN",
          "CLE/CAN",
          "KCA/CAN",
          "MIL/CAN",
          "MIN/CAN",
          "PHI/CAN",
          "PIT/CAN",
          "SLN/CAN",
          "TBA/CAN",
          "TEX/CAN",
          "TOR/CAN",
          "CLE/Colombia",
          "MON/Colombia",
          "CHA/Cuba",
          "CIN/Cuba",
          "CLE/Cuba",
          "KCA/Cuba",
          "NYA/Cuba",
          "OAK/Cuba",
          "SDN/Cuba",
          "SEA/Cuba",
          "SLN/Cuba",
          "TBA/Cuba",
          "SEA/Curacao",
          "WAS/Curacao",
          "ARI/D.R.",
          "ATL/D.R.",
          "BAL/D.R.",
          "BOS/D.R.",
          "CHA/D.R.",
          "CHN/D.R.",
          "CIN/D.R.",
          "CLE/D.R.",
          "COL/D.R.",
          "DET/D.R.",
          "FLO/D.R.",
          "HOU/D.R.",
          "KCA/D.R.",
          "LAA/D.R.",
          "LAN/D.R.",
          "MIA/D.R.",
          "MIL/D.R.",
          "MIN/D.R.",
          "ML4/D.R.",
          "NYA/D.R.",
          "NYN/D.R.",
          "OAK/D.R.",
          "PHI/D.R.",
          "PIT/D.R.",
          "SLN/D.R.",
          "TBA/D.R.",
          "TEX/D.R.",
          "TOR/D.R.",
          "WAS/D.R.",
          "SDN/France",
          "COL/Germany",
          "NYA/Germany",
          "MIL/Japan",
          "OAK/Japan",
          "ATL/Mexico",
          "COL/Mexico",
          "DET/Mexico",
          "LAN/Mexico",
          "ML4/Mexico",
          "MON/Mexico",
          "NYA/Mexico",
          "PIT/Mexico",
          "SDN/Mexico",
          "SLN/Mexico",
          "TEX/Mexico",
          "CLE/Netherlands",
          "SDN/Nicaragua",
          "SFN/Nicaragua",
          "ARI/P.R.",
          "BAL/P.R.",
          "BOS/P.R.",
          "CAL/P.R.",
          "CHA/P.R.",
          "CLE/P.R.",
          "COL/P.R.",
          "DET/P.R.",
          "FLO/P.R.",
          "HOU/P.R.",
          "KCA/P.R.",
          "LAN/P.R.",
          "MIL/P.R.",
          "MON/P.R.",
          "NYA/P.R.",
          "OAK/P.R.",
          "PHI/P.R.",
          "SDN/P.R.",
          "SEA/P.R.",
          "SLN/P.R.",
          "TEX/P.R.",
          "TOR/P.R.",
          "ATL/Panama",
          "CAL/Panama",
          "COL/Panama",
          "DET/Panama",
          "LAN/Panama",
          "SFN/Panama",
          "ARI/Philippines",
          "ATL/South Korea",
          "BOS/South Korea",
          "CHN/South Korea",
          "CLE/South Korea",
          "SEA/South Korea",
          "BAL/Taiwan",
          "ANA/USA",
          "ARI/USA",
          "ATL/USA",
          "BAL/USA",
          "BOS/USA",
          "CAL/USA",
          "CHA/USA",
          "CHN/USA",
          "CIN/USA",
          "CLE/USA",
          "COL/USA",
          "DET/USA",
          "FLO/USA",
          "HOU/USA",
          "KCA/USA",
          "LAA/USA",
          "LAN/USA",
          "MIA/USA",
          "MIL/USA",
          "MIN/USA",
          "ML4/USA",
          "MON/USA",
          "NYA/USA",
          "NYN/USA",
          "OAK/USA",
          "PHI/USA",
          "PIT/USA",
          "SDN/USA",
          "SEA/USA",
          "SFN/USA",
          "SLN/USA",
          "TBA/USA",
          "TEX/USA",
          "TOR/USA",
          "WAS/USA",
          "SLN/United Kingdom",
          "SDN/V.I.",
          "TEX/V.I.",
          "ARI/Venezuela",
          "ATL/Venezuela",
          "BOS/Venezuela",
          "CHA/Venezuela",
          "CHN/Venezuela",
          "CIN/Venezuela",
          "CLE/Venezuela",
          "COL/Venezuela",
          "DET/Venezuela",
          "FLO/Venezuela",
          "HOU/Venezuela",
          "KCA/Venezuela",
          "LAA/Venezuela",
          "LAN/Venezuela",
          "MIN/Venezuela",
          "MON/Venezuela",
          "NYA/Venezuela",
          "NYN/Venezuela",
          "PIT/Venezuela",
          "SDN/Venezuela",
          "SFN/Venezuela",
          "TBA/Venezuela",
          "TEX/Venezuela",
          "TOR/Venezuela",
          "ANA",
          "ARI",
          "ATL",
          "BAL",
          "BOS",
          "CAL",
          "CHA",
          "CHN",
          "CIN",
          "CLE",
          "COL",
          "DET",
          "FLO",
          "HOU",
          "KCA",
          "LAA",
          "LAN",
          "MIA",
          "MIL",
          "MIN",
          "ML4",
          "MON",
          "NYA",
          "NYN",
          "OAK",
          "PHI",
          "PIT",
          "SDN",
          "SEA",
          "SFN",
          "SLN",
          "TBA",
          "TEX",
          "TOR",
          "WAS"
         ],
         "labels": [
          "Afghanistan",
          "Aruba",
          "Australia",
          "Australia",
          "Australia",
          "CAN",
          "CAN",
          "CAN",
          "CAN",
          "CAN",
          "CAN",
          "CAN",
          "CAN",
          "CAN",
          "CAN",
          "CAN",
          "Colombia",
          "Colombia",
          "Cuba",
          "Cuba",
          "Cuba",
          "Cuba",
          "Cuba",
          "Cuba",
          "Cuba",
          "Cuba",
          "Cuba",
          "Cuba",
          "Curacao",
          "Curacao",
          "D.R.",
          "D.R.",
          "D.R.",
          "D.R.",
          "D.R.",
          "D.R.",
          "D.R.",
          "D.R.",
          "D.R.",
          "D.R.",
          "D.R.",
          "D.R.",
          "D.R.",
          "D.R.",
          "D.R.",
          "D.R.",
          "D.R.",
          "D.R.",
          "D.R.",
          "D.R.",
          "D.R.",
          "D.R.",
          "D.R.",
          "D.R.",
          "D.R.",
          "D.R.",
          "D.R.",
          "D.R.",
          "D.R.",
          "France",
          "Germany",
          "Germany",
          "Japan",
          "Japan",
          "Mexico",
          "Mexico",
          "Mexico",
          "Mexico",
          "Mexico",
          "Mexico",
          "Mexico",
          "Mexico",
          "Mexico",
          "Mexico",
          "Mexico",
          "Netherlands",
          "Nicaragua",
          "Nicaragua",
          "P.R.",
          "P.R.",
          "P.R.",
          "P.R.",
          "P.R.",
          "P.R.",
          "P.R.",
          "P.R.",
          "P.R.",
          "P.R.",
          "P.R.",
          "P.R.",
          "P.R.",
          "P.R.",
          "P.R.",
          "P.R.",
          "P.R.",
          "P.R.",
          "P.R.",
          "P.R.",
          "P.R.",
          "P.R.",
          "Panama",
          "Panama",
          "Panama",
          "Panama",
          "Panama",
          "Panama",
          "Philippines",
          "South Korea",
          "South Korea",
          "South Korea",
          "South Korea",
          "South Korea",
          "Taiwan",
          "USA",
          "USA",
          "USA",
          "USA",
          "USA",
          "USA",
          "USA",
          "USA",
          "USA",
          "USA",
          "USA",
          "USA",
          "USA",
          "USA",
          "USA",
          "USA",
          "USA",
          "USA",
          "USA",
          "USA",
          "USA",
          "USA",
          "USA",
          "USA",
          "USA",
          "USA",
          "USA",
          "USA",
          "USA",
          "USA",
          "USA",
          "USA",
          "USA",
          "USA",
          "USA",
          "United Kingdom",
          "V.I.",
          "V.I.",
          "Venezuela",
          "Venezuela",
          "Venezuela",
          "Venezuela",
          "Venezuela",
          "Venezuela",
          "Venezuela",
          "Venezuela",
          "Venezuela",
          "Venezuela",
          "Venezuela",
          "Venezuela",
          "Venezuela",
          "Venezuela",
          "Venezuela",
          "Venezuela",
          "Venezuela",
          "Venezuela",
          "Venezuela",
          "Venezuela",
          "Venezuela",
          "Venezuela",
          "Venezuela",
          "Venezuela",
          "ANA",
          "ARI",
          "ATL",
          "BAL",
          "BOS",
          "CAL",
          "CHA",
          "CHN",
          "CIN",
          "CLE",
          "COL",
          "DET",
          "FLO",
          "HOU",
          "KCA",
          "LAA",
          "LAN",
          "MIA",
          "MIL",
          "MIN",
          "ML4",
          "MON",
          "NYA",
          "NYN",
          "OAK",
          "PHI",
          "PIT",
          "SDN",
          "SEA",
          "SFN",
          "SLN",
          "TBA",
          "TEX",
          "TOR",
          "WAS"
         ],
         "name": "",
         "parents": [
          "TEX",
          "BOS",
          "MIN",
          "MON",
          "SEA",
          "BAL",
          "CLE",
          "KCA",
          "MIL",
          "MIN",
          "PHI",
          "PIT",
          "SLN",
          "TBA",
          "TEX",
          "TOR",
          "CLE",
          "MON",
          "CHA",
          "CIN",
          "CLE",
          "KCA",
          "NYA",
          "OAK",
          "SDN",
          "SEA",
          "SLN",
          "TBA",
          "SEA",
          "WAS",
          "ARI",
          "ATL",
          "BAL",
          "BOS",
          "CHA",
          "CHN",
          "CIN",
          "CLE",
          "COL",
          "DET",
          "FLO",
          "HOU",
          "KCA",
          "LAA",
          "LAN",
          "MIA",
          "MIL",
          "MIN",
          "ML4",
          "NYA",
          "NYN",
          "OAK",
          "PHI",
          "PIT",
          "SLN",
          "TBA",
          "TEX",
          "TOR",
          "WAS",
          "SDN",
          "COL",
          "NYA",
          "MIL",
          "OAK",
          "ATL",
          "COL",
          "DET",
          "LAN",
          "ML4",
          "MON",
          "NYA",
          "PIT",
          "SDN",
          "SLN",
          "TEX",
          "CLE",
          "SDN",
          "SFN",
          "ARI",
          "BAL",
          "BOS",
          "CAL",
          "CHA",
          "CLE",
          "COL",
          "DET",
          "FLO",
          "HOU",
          "KCA",
          "LAN",
          "MIL",
          "MON",
          "NYA",
          "OAK",
          "PHI",
          "SDN",
          "SEA",
          "SLN",
          "TEX",
          "TOR",
          "ATL",
          "CAL",
          "COL",
          "DET",
          "LAN",
          "SFN",
          "ARI",
          "ATL",
          "BOS",
          "CHN",
          "CLE",
          "SEA",
          "BAL",
          "ANA",
          "ARI",
          "ATL",
          "BAL",
          "BOS",
          "CAL",
          "CHA",
          "CHN",
          "CIN",
          "CLE",
          "COL",
          "DET",
          "FLO",
          "HOU",
          "KCA",
          "LAA",
          "LAN",
          "MIA",
          "MIL",
          "MIN",
          "ML4",
          "MON",
          "NYA",
          "NYN",
          "OAK",
          "PHI",
          "PIT",
          "SDN",
          "SEA",
          "SFN",
          "SLN",
          "TBA",
          "TEX",
          "TOR",
          "WAS",
          "SLN",
          "SDN",
          "TEX",
          "ARI",
          "ATL",
          "BOS",
          "CHA",
          "CHN",
          "CIN",
          "CLE",
          "COL",
          "DET",
          "FLO",
          "HOU",
          "KCA",
          "LAA",
          "LAN",
          "MIN",
          "MON",
          "NYA",
          "NYN",
          "PIT",
          "SDN",
          "SFN",
          "TBA",
          "TEX",
          "TOR",
          "",
          "",
          "",
          "",
          "",
          "",
          "",
          "",
          "",
          "",
          "",
          "",
          "",
          "",
          "",
          "",
          "",
          "",
          "",
          "",
          "",
          "",
          "",
          "",
          "",
          "",
          "",
          "",
          "",
          "",
          "",
          "",
          "",
          "",
          ""
         ],
         "type": "treemap",
         "values": [
          1,
          1,
          1,
          1,
          1,
          1,
          1,
          1,
          1,
          1,
          1,
          1,
          1,
          1,
          1,
          1,
          1,
          1,
          1,
          1,
          1,
          1,
          1,
          3,
          1,
          1,
          1,
          1,
          1,
          1,
          1,
          8,
          7,
          2,
          1,
          5,
          2,
          3,
          1,
          3,
          4,
          4,
          4,
          2,
          7,
          1,
          2,
          1,
          1,
          4,
          2,
          1,
          1,
          4,
          4,
          2,
          5,
          7,
          2,
          1,
          1,
          1,
          1,
          1,
          3,
          2,
          1,
          1,
          1,
          2,
          1,
          2,
          1,
          1,
          1,
          1,
          1,
          1,
          1,
          1,
          1,
          1,
          2,
          5,
          1,
          2,
          1,
          2,
          5,
          2,
          2,
          1,
          1,
          1,
          1,
          3,
          1,
          1,
          3,
          1,
          3,
          1,
          1,
          1,
          1,
          1,
          1,
          1,
          1,
          1,
          1,
          1,
          1,
          3,
          11,
          24,
          21,
          26,
          15,
          25,
          25,
          31,
          28,
          18,
          28,
          20,
          24,
          32,
          9,
          14,
          2,
          11,
          31,
          16,
          24,
          19,
          24,
          40,
          31,
          27,
          24,
          24,
          32,
          31,
          17,
          15,
          24,
          6,
          1,
          1,
          1,
          1,
          2,
          1,
          1,
          1,
          1,
          3,
          3,
          1,
          1,
          2,
          1,
          2,
          3,
          1,
          3,
          1,
          1,
          2,
          2,
          2,
          2,
          2,
          5,
          3,
          15,
          41,
          31,
          32,
          17,
          30,
          32,
          35,
          44,
          27,
          36,
          26,
          32,
          44,
          13,
          28,
          3,
          17,
          35,
          18,
          32,
          28,
          27,
          46,
          34,
          36,
          34,
          29,
          36,
          40,
          23,
          29,
          38,
          9
         ]
        }
       ],
       "layout": {
        "autosize": true,
        "legend": {
         "tracegroupgap": 0
        },
        "margin": {
         "t": 60
        },
        "template": {
         "data": {
          "bar": [
           {
            "error_x": {
             "color": "#2a3f5f"
            },
            "error_y": {
             "color": "#2a3f5f"
            },
            "marker": {
             "line": {
              "color": "#E5ECF6",
              "width": 0.5
             },
             "pattern": {
              "fillmode": "overlay",
              "size": 10,
              "solidity": 0.2
             }
            },
            "type": "bar"
           }
          ],
          "barpolar": [
           {
            "marker": {
             "line": {
              "color": "#E5ECF6",
              "width": 0.5
             },
             "pattern": {
              "fillmode": "overlay",
              "size": 10,
              "solidity": 0.2
             }
            },
            "type": "barpolar"
           }
          ],
          "carpet": [
           {
            "aaxis": {
             "endlinecolor": "#2a3f5f",
             "gridcolor": "white",
             "linecolor": "white",
             "minorgridcolor": "white",
             "startlinecolor": "#2a3f5f"
            },
            "baxis": {
             "endlinecolor": "#2a3f5f",
             "gridcolor": "white",
             "linecolor": "white",
             "minorgridcolor": "white",
             "startlinecolor": "#2a3f5f"
            },
            "type": "carpet"
           }
          ],
          "choropleth": [
           {
            "colorbar": {
             "outlinewidth": 0,
             "ticks": ""
            },
            "type": "choropleth"
           }
          ],
          "contour": [
           {
            "colorbar": {
             "outlinewidth": 0,
             "ticks": ""
            },
            "colorscale": [
             [
              0,
              "#0d0887"
             ],
             [
              0.1111111111111111,
              "#46039f"
             ],
             [
              0.2222222222222222,
              "#7201a8"
             ],
             [
              0.3333333333333333,
              "#9c179e"
             ],
             [
              0.4444444444444444,
              "#bd3786"
             ],
             [
              0.5555555555555556,
              "#d8576b"
             ],
             [
              0.6666666666666666,
              "#ed7953"
             ],
             [
              0.7777777777777778,
              "#fb9f3a"
             ],
             [
              0.8888888888888888,
              "#fdca26"
             ],
             [
              1,
              "#f0f921"
             ]
            ],
            "type": "contour"
           }
          ],
          "contourcarpet": [
           {
            "colorbar": {
             "outlinewidth": 0,
             "ticks": ""
            },
            "type": "contourcarpet"
           }
          ],
          "heatmap": [
           {
            "colorbar": {
             "outlinewidth": 0,
             "ticks": ""
            },
            "colorscale": [
             [
              0,
              "#0d0887"
             ],
             [
              0.1111111111111111,
              "#46039f"
             ],
             [
              0.2222222222222222,
              "#7201a8"
             ],
             [
              0.3333333333333333,
              "#9c179e"
             ],
             [
              0.4444444444444444,
              "#bd3786"
             ],
             [
              0.5555555555555556,
              "#d8576b"
             ],
             [
              0.6666666666666666,
              "#ed7953"
             ],
             [
              0.7777777777777778,
              "#fb9f3a"
             ],
             [
              0.8888888888888888,
              "#fdca26"
             ],
             [
              1,
              "#f0f921"
             ]
            ],
            "type": "heatmap"
           }
          ],
          "heatmapgl": [
           {
            "colorbar": {
             "outlinewidth": 0,
             "ticks": ""
            },
            "colorscale": [
             [
              0,
              "#0d0887"
             ],
             [
              0.1111111111111111,
              "#46039f"
             ],
             [
              0.2222222222222222,
              "#7201a8"
             ],
             [
              0.3333333333333333,
              "#9c179e"
             ],
             [
              0.4444444444444444,
              "#bd3786"
             ],
             [
              0.5555555555555556,
              "#d8576b"
             ],
             [
              0.6666666666666666,
              "#ed7953"
             ],
             [
              0.7777777777777778,
              "#fb9f3a"
             ],
             [
              0.8888888888888888,
              "#fdca26"
             ],
             [
              1,
              "#f0f921"
             ]
            ],
            "type": "heatmapgl"
           }
          ],
          "histogram": [
           {
            "marker": {
             "pattern": {
              "fillmode": "overlay",
              "size": 10,
              "solidity": 0.2
             }
            },
            "type": "histogram"
           }
          ],
          "histogram2d": [
           {
            "colorbar": {
             "outlinewidth": 0,
             "ticks": ""
            },
            "colorscale": [
             [
              0,
              "#0d0887"
             ],
             [
              0.1111111111111111,
              "#46039f"
             ],
             [
              0.2222222222222222,
              "#7201a8"
             ],
             [
              0.3333333333333333,
              "#9c179e"
             ],
             [
              0.4444444444444444,
              "#bd3786"
             ],
             [
              0.5555555555555556,
              "#d8576b"
             ],
             [
              0.6666666666666666,
              "#ed7953"
             ],
             [
              0.7777777777777778,
              "#fb9f3a"
             ],
             [
              0.8888888888888888,
              "#fdca26"
             ],
             [
              1,
              "#f0f921"
             ]
            ],
            "type": "histogram2d"
           }
          ],
          "histogram2dcontour": [
           {
            "colorbar": {
             "outlinewidth": 0,
             "ticks": ""
            },
            "colorscale": [
             [
              0,
              "#0d0887"
             ],
             [
              0.1111111111111111,
              "#46039f"
             ],
             [
              0.2222222222222222,
              "#7201a8"
             ],
             [
              0.3333333333333333,
              "#9c179e"
             ],
             [
              0.4444444444444444,
              "#bd3786"
             ],
             [
              0.5555555555555556,
              "#d8576b"
             ],
             [
              0.6666666666666666,
              "#ed7953"
             ],
             [
              0.7777777777777778,
              "#fb9f3a"
             ],
             [
              0.8888888888888888,
              "#fdca26"
             ],
             [
              1,
              "#f0f921"
             ]
            ],
            "type": "histogram2dcontour"
           }
          ],
          "mesh3d": [
           {
            "colorbar": {
             "outlinewidth": 0,
             "ticks": ""
            },
            "type": "mesh3d"
           }
          ],
          "parcoords": [
           {
            "line": {
             "colorbar": {
              "outlinewidth": 0,
              "ticks": ""
             }
            },
            "type": "parcoords"
           }
          ],
          "pie": [
           {
            "automargin": true,
            "type": "pie"
           }
          ],
          "scatter": [
           {
            "marker": {
             "colorbar": {
              "outlinewidth": 0,
              "ticks": ""
             }
            },
            "type": "scatter"
           }
          ],
          "scatter3d": [
           {
            "line": {
             "colorbar": {
              "outlinewidth": 0,
              "ticks": ""
             }
            },
            "marker": {
             "colorbar": {
              "outlinewidth": 0,
              "ticks": ""
             }
            },
            "type": "scatter3d"
           }
          ],
          "scattercarpet": [
           {
            "marker": {
             "colorbar": {
              "outlinewidth": 0,
              "ticks": ""
             }
            },
            "type": "scattercarpet"
           }
          ],
          "scattergeo": [
           {
            "marker": {
             "colorbar": {
              "outlinewidth": 0,
              "ticks": ""
             }
            },
            "type": "scattergeo"
           }
          ],
          "scattergl": [
           {
            "marker": {
             "colorbar": {
              "outlinewidth": 0,
              "ticks": ""
             }
            },
            "type": "scattergl"
           }
          ],
          "scattermapbox": [
           {
            "marker": {
             "colorbar": {
              "outlinewidth": 0,
              "ticks": ""
             }
            },
            "type": "scattermapbox"
           }
          ],
          "scatterpolar": [
           {
            "marker": {
             "colorbar": {
              "outlinewidth": 0,
              "ticks": ""
             }
            },
            "type": "scatterpolar"
           }
          ],
          "scatterpolargl": [
           {
            "marker": {
             "colorbar": {
              "outlinewidth": 0,
              "ticks": ""
             }
            },
            "type": "scatterpolargl"
           }
          ],
          "scatterternary": [
           {
            "marker": {
             "colorbar": {
              "outlinewidth": 0,
              "ticks": ""
             }
            },
            "type": "scatterternary"
           }
          ],
          "surface": [
           {
            "colorbar": {
             "outlinewidth": 0,
             "ticks": ""
            },
            "colorscale": [
             [
              0,
              "#0d0887"
             ],
             [
              0.1111111111111111,
              "#46039f"
             ],
             [
              0.2222222222222222,
              "#7201a8"
             ],
             [
              0.3333333333333333,
              "#9c179e"
             ],
             [
              0.4444444444444444,
              "#bd3786"
             ],
             [
              0.5555555555555556,
              "#d8576b"
             ],
             [
              0.6666666666666666,
              "#ed7953"
             ],
             [
              0.7777777777777778,
              "#fb9f3a"
             ],
             [
              0.8888888888888888,
              "#fdca26"
             ],
             [
              1,
              "#f0f921"
             ]
            ],
            "type": "surface"
           }
          ],
          "table": [
           {
            "cells": {
             "fill": {
              "color": "#EBF0F8"
             },
             "line": {
              "color": "white"
             }
            },
            "header": {
             "fill": {
              "color": "#C8D4E3"
             },
             "line": {
              "color": "white"
             }
            },
            "type": "table"
           }
          ]
         },
         "layout": {
          "annotationdefaults": {
           "arrowcolor": "#2a3f5f",
           "arrowhead": 0,
           "arrowwidth": 1
          },
          "autotypenumbers": "strict",
          "coloraxis": {
           "colorbar": {
            "outlinewidth": 0,
            "ticks": ""
           }
          },
          "colorscale": {
           "diverging": [
            [
             0,
             "#8e0152"
            ],
            [
             0.1,
             "#c51b7d"
            ],
            [
             0.2,
             "#de77ae"
            ],
            [
             0.3,
             "#f1b6da"
            ],
            [
             0.4,
             "#fde0ef"
            ],
            [
             0.5,
             "#f7f7f7"
            ],
            [
             0.6,
             "#e6f5d0"
            ],
            [
             0.7,
             "#b8e186"
            ],
            [
             0.8,
             "#7fbc41"
            ],
            [
             0.9,
             "#4d9221"
            ],
            [
             1,
             "#276419"
            ]
           ],
           "sequential": [
            [
             0,
             "#0d0887"
            ],
            [
             0.1111111111111111,
             "#46039f"
            ],
            [
             0.2222222222222222,
             "#7201a8"
            ],
            [
             0.3333333333333333,
             "#9c179e"
            ],
            [
             0.4444444444444444,
             "#bd3786"
            ],
            [
             0.5555555555555556,
             "#d8576b"
            ],
            [
             0.6666666666666666,
             "#ed7953"
            ],
            [
             0.7777777777777778,
             "#fb9f3a"
            ],
            [
             0.8888888888888888,
             "#fdca26"
            ],
            [
             1,
             "#f0f921"
            ]
           ],
           "sequentialminus": [
            [
             0,
             "#0d0887"
            ],
            [
             0.1111111111111111,
             "#46039f"
            ],
            [
             0.2222222222222222,
             "#7201a8"
            ],
            [
             0.3333333333333333,
             "#9c179e"
            ],
            [
             0.4444444444444444,
             "#bd3786"
            ],
            [
             0.5555555555555556,
             "#d8576b"
            ],
            [
             0.6666666666666666,
             "#ed7953"
            ],
            [
             0.7777777777777778,
             "#fb9f3a"
            ],
            [
             0.8888888888888888,
             "#fdca26"
            ],
            [
             1,
             "#f0f921"
            ]
           ]
          },
          "colorway": [
           "#636efa",
           "#EF553B",
           "#00cc96",
           "#ab63fa",
           "#FFA15A",
           "#19d3f3",
           "#FF6692",
           "#B6E880",
           "#FF97FF",
           "#FECB52"
          ],
          "font": {
           "color": "#2a3f5f"
          },
          "geo": {
           "bgcolor": "white",
           "lakecolor": "white",
           "landcolor": "#E5ECF6",
           "showlakes": true,
           "showland": true,
           "subunitcolor": "white"
          },
          "hoverlabel": {
           "align": "left"
          },
          "hovermode": "closest",
          "mapbox": {
           "style": "light"
          },
          "paper_bgcolor": "white",
          "plot_bgcolor": "#E5ECF6",
          "polar": {
           "angularaxis": {
            "gridcolor": "white",
            "linecolor": "white",
            "ticks": ""
           },
           "bgcolor": "#E5ECF6",
           "radialaxis": {
            "gridcolor": "white",
            "linecolor": "white",
            "ticks": ""
           }
          },
          "scene": {
           "xaxis": {
            "backgroundcolor": "#E5ECF6",
            "gridcolor": "white",
            "gridwidth": 2,
            "linecolor": "white",
            "showbackground": true,
            "ticks": "",
            "zerolinecolor": "white"
           },
           "yaxis": {
            "backgroundcolor": "#E5ECF6",
            "gridcolor": "white",
            "gridwidth": 2,
            "linecolor": "white",
            "showbackground": true,
            "ticks": "",
            "zerolinecolor": "white"
           },
           "zaxis": {
            "backgroundcolor": "#E5ECF6",
            "gridcolor": "white",
            "gridwidth": 2,
            "linecolor": "white",
            "showbackground": true,
            "ticks": "",
            "zerolinecolor": "white"
           }
          },
          "shapedefaults": {
           "line": {
            "color": "#2a3f5f"
           }
          },
          "ternary": {
           "aaxis": {
            "gridcolor": "white",
            "linecolor": "white",
            "ticks": ""
           },
           "baxis": {
            "gridcolor": "white",
            "linecolor": "white",
            "ticks": ""
           },
           "bgcolor": "#E5ECF6",
           "caxis": {
            "gridcolor": "white",
            "linecolor": "white",
            "ticks": ""
           }
          },
          "title": {
           "x": 0.05
          },
          "xaxis": {
           "automargin": true,
           "gridcolor": "white",
           "linecolor": "white",
           "ticks": "",
           "title": {
            "standoff": 15
           },
           "zerolinecolor": "white",
           "zerolinewidth": 2
          },
          "yaxis": {
           "automargin": true,
           "gridcolor": "white",
           "linecolor": "white",
           "ticks": "",
           "title": {
            "standoff": 15
           },
           "zerolinecolor": "white",
           "zerolinewidth": 2
          }
         }
        }
       }
      },
      "image/png": "[encoded data removed]",
      "text/html": [
       "<div>                            <div id=\"5e289078-bbb8-47f9-808d-98762d52cf9f\" class=\"plotly-graph-div\" style=\"height:525px; width:100%;\"></div>            <script type=\"text/javascript\">                require([\"plotly\"], function(Plotly) {                    window.PLOTLYENV=window.PLOTLYENV || {};                                    if (document.getElementById(\"5e289078-bbb8-47f9-808d-98762d52cf9f\")) {                    Plotly.newPlot(                        \"5e289078-bbb8-47f9-808d-98762d52cf9f\",                        [{\"branchvalues\":\"total\",\"domain\":{\"x\":[0.0,1.0],\"y\":[0.0,1.0]},\"hovertemplate\":\"labels=%{label}<br>count=%{value}<br>parent=%{parent}<br>id=%{id}<extra></extra>\",\"ids\":[\"TEX/Afghanistan\",\"BOS/Aruba\",\"MIN/Australia\",\"MON/Australia\",\"SEA/Australia\",\"BAL/CAN\",\"CLE/CAN\",\"KCA/CAN\",\"MIL/CAN\",\"MIN/CAN\",\"PHI/CAN\",\"PIT/CAN\",\"SLN/CAN\",\"TBA/CAN\",\"TEX/CAN\",\"TOR/CAN\",\"CLE/Colombia\",\"MON/Colombia\",\"CHA/Cuba\",\"CIN/Cuba\",\"CLE/Cuba\",\"KCA/Cuba\",\"NYA/Cuba\",\"OAK/Cuba\",\"SDN/Cuba\",\"SEA/Cuba\",\"SLN/Cuba\",\"TBA/Cuba\",\"SEA/Curacao\",\"WAS/Curacao\",\"ARI/D.R.\",\"ATL/D.R.\",\"BAL/D.R.\",\"BOS/D.R.\",\"CHA/D.R.\",\"CHN/D.R.\",\"CIN/D.R.\",\"CLE/D.R.\",\"COL/D.R.\",\"DET/D.R.\",\"FLO/D.R.\",\"HOU/D.R.\",\"KCA/D.R.\",\"LAA/D.R.\",\"LAN/D.R.\",\"MIA/D.R.\",\"MIL/D.R.\",\"MIN/D.R.\",\"ML4/D.R.\",\"NYA/D.R.\",\"NYN/D.R.\",\"OAK/D.R.\",\"PHI/D.R.\",\"PIT/D.R.\",\"SLN/D.R.\",\"TBA/D.R.\",\"TEX/D.R.\",\"TOR/D.R.\",\"WAS/D.R.\",\"SDN/France\",\"COL/Germany\",\"NYA/Germany\",\"MIL/Japan\",\"OAK/Japan\",\"ATL/Mexico\",\"COL/Mexico\",\"DET/Mexico\",\"LAN/Mexico\",\"ML4/Mexico\",\"MON/Mexico\",\"NYA/Mexico\",\"PIT/Mexico\",\"SDN/Mexico\",\"SLN/Mexico\",\"TEX/Mexico\",\"CLE/Netherlands\",\"SDN/Nicaragua\",\"SFN/Nicaragua\",\"ARI/P.R.\",\"BAL/P.R.\",\"BOS/P.R.\",\"CAL/P.R.\",\"CHA/P.R.\",\"CLE/P.R.\",\"COL/P.R.\",\"DET/P.R.\",\"FLO/P.R.\",\"HOU/P.R.\",\"KCA/P.R.\",\"LAN/P.R.\",\"MIL/P.R.\",\"MON/P.R.\",\"NYA/P.R.\",\"OAK/P.R.\",\"PHI/P.R.\",\"SDN/P.R.\",\"SEA/P.R.\",\"SLN/P.R.\",\"TEX/P.R.\",\"TOR/P.R.\",\"ATL/Panama\",\"CAL/Panama\",\"COL/Panama\",\"DET/Panama\",\"LAN/Panama\",\"SFN/Panama\",\"ARI/Philippines\",\"ATL/South Korea\",\"BOS/South Korea\",\"CHN/South Korea\",\"CLE/South Korea\",\"SEA/South Korea\",\"BAL/Taiwan\",\"ANA/USA\",\"ARI/USA\",\"ATL/USA\",\"BAL/USA\",\"BOS/USA\",\"CAL/USA\",\"CHA/USA\",\"CHN/USA\",\"CIN/USA\",\"CLE/USA\",\"COL/USA\",\"DET/USA\",\"FLO/USA\",\"HOU/USA\",\"KCA/USA\",\"LAA/USA\",\"LAN/USA\",\"MIA/USA\",\"MIL/USA\",\"MIN/USA\",\"ML4/USA\",\"MON/USA\",\"NYA/USA\",\"NYN/USA\",\"OAK/USA\",\"PHI/USA\",\"PIT/USA\",\"SDN/USA\",\"SEA/USA\",\"SFN/USA\",\"SLN/USA\",\"TBA/USA\",\"TEX/USA\",\"TOR/USA\",\"WAS/USA\",\"SLN/United Kingdom\",\"SDN/V.I.\",\"TEX/V.I.\",\"ARI/Venezuela\",\"ATL/Venezuela\",\"BOS/Venezuela\",\"CHA/Venezuela\",\"CHN/Venezuela\",\"CIN/Venezuela\",\"CLE/Venezuela\",\"COL/Venezuela\",\"DET/Venezuela\",\"FLO/Venezuela\",\"HOU/Venezuela\",\"KCA/Venezuela\",\"LAA/Venezuela\",\"LAN/Venezuela\",\"MIN/Venezuela\",\"MON/Venezuela\",\"NYA/Venezuela\",\"NYN/Venezuela\",\"PIT/Venezuela\",\"SDN/Venezuela\",\"SFN/Venezuela\",\"TBA/Venezuela\",\"TEX/Venezuela\",\"TOR/Venezuela\",\"ANA\",\"ARI\",\"ATL\",\"BAL\",\"BOS\",\"CAL\",\"CHA\",\"CHN\",\"CIN\",\"CLE\",\"COL\",\"DET\",\"FLO\",\"HOU\",\"KCA\",\"LAA\",\"LAN\",\"MIA\",\"MIL\",\"MIN\",\"ML4\",\"MON\",\"NYA\",\"NYN\",\"OAK\",\"PHI\",\"PIT\",\"SDN\",\"SEA\",\"SFN\",\"SLN\",\"TBA\",\"TEX\",\"TOR\",\"WAS\"],\"labels\":[\"Afghanistan\",\"Aruba\",\"Australia\",\"Australia\",\"Australia\",\"CAN\",\"CAN\",\"CAN\",\"CAN\",\"CAN\",\"CAN\",\"CAN\",\"CAN\",\"CAN\",\"CAN\",\"CAN\",\"Colombia\",\"Colombia\",\"Cuba\",\"Cuba\",\"Cuba\",\"Cuba\",\"Cuba\",\"Cuba\",\"Cuba\",\"Cuba\",\"Cuba\",\"Cuba\",\"Curacao\",\"Curacao\",\"D.R.\",\"D.R.\",\"D.R.\",\"D.R.\",\"D.R.\",\"D.R.\",\"D.R.\",\"D.R.\",\"D.R.\",\"D.R.\",\"D.R.\",\"D.R.\",\"D.R.\",\"D.R.\",\"D.R.\",\"D.R.\",\"D.R.\",\"D.R.\",\"D.R.\",\"D.R.\",\"D.R.\",\"D.R.\",\"D.R.\",\"D.R.\",\"D.R.\",\"D.R.\",\"D.R.\",\"D.R.\",\"D.R.\",\"France\",\"Germany\",\"Germany\",\"Japan\",\"Japan\",\"Mexico\",\"Mexico\",\"Mexico\",\"Mexico\",\"Mexico\",\"Mexico\",\"Mexico\",\"Mexico\",\"Mexico\",\"Mexico\",\"Mexico\",\"Netherlands\",\"Nicaragua\",\"Nicaragua\",\"P.R.\",\"P.R.\",\"P.R.\",\"P.R.\",\"P.R.\",\"P.R.\",\"P.R.\",\"P.R.\",\"P.R.\",\"P.R.\",\"P.R.\",\"P.R.\",\"P.R.\",\"P.R.\",\"P.R.\",\"P.R.\",\"P.R.\",\"P.R.\",\"P.R.\",\"P.R.\",\"P.R.\",\"P.R.\",\"Panama\",\"Panama\",\"Panama\",\"Panama\",\"Panama\",\"Panama\",\"Philippines\",\"South Korea\",\"South Korea\",\"South Korea\",\"South Korea\",\"South Korea\",\"Taiwan\",\"USA\",\"USA\",\"USA\",\"USA\",\"USA\",\"USA\",\"USA\",\"USA\",\"USA\",\"USA\",\"USA\",\"USA\",\"USA\",\"USA\",\"USA\",\"USA\",\"USA\",\"USA\",\"USA\",\"USA\",\"USA\",\"USA\",\"USA\",\"USA\",\"USA\",\"USA\",\"USA\",\"USA\",\"USA\",\"USA\",\"USA\",\"USA\",\"USA\",\"USA\",\"USA\",\"United Kingdom\",\"V.I.\",\"V.I.\",\"Venezuela\",\"Venezuela\",\"Venezuela\",\"Venezuela\",\"Venezuela\",\"Venezuela\",\"Venezuela\",\"Venezuela\",\"Venezuela\",\"Venezuela\",\"Venezuela\",\"Venezuela\",\"Venezuela\",\"Venezuela\",\"Venezuela\",\"Venezuela\",\"Venezuela\",\"Venezuela\",\"Venezuela\",\"Venezuela\",\"Venezuela\",\"Venezuela\",\"Venezuela\",\"Venezuela\",\"ANA\",\"ARI\",\"ATL\",\"BAL\",\"BOS\",\"CAL\",\"CHA\",\"CHN\",\"CIN\",\"CLE\",\"COL\",\"DET\",\"FLO\",\"HOU\",\"KCA\",\"LAA\",\"LAN\",\"MIA\",\"MIL\",\"MIN\",\"ML4\",\"MON\",\"NYA\",\"NYN\",\"OAK\",\"PHI\",\"PIT\",\"SDN\",\"SEA\",\"SFN\",\"SLN\",\"TBA\",\"TEX\",\"TOR\",\"WAS\"],\"name\":\"\",\"parents\":[\"TEX\",\"BOS\",\"MIN\",\"MON\",\"SEA\",\"BAL\",\"CLE\",\"KCA\",\"MIL\",\"MIN\",\"PHI\",\"PIT\",\"SLN\",\"TBA\",\"TEX\",\"TOR\",\"CLE\",\"MON\",\"CHA\",\"CIN\",\"CLE\",\"KCA\",\"NYA\",\"OAK\",\"SDN\",\"SEA\",\"SLN\",\"TBA\",\"SEA\",\"WAS\",\"ARI\",\"ATL\",\"BAL\",\"BOS\",\"CHA\",\"CHN\",\"CIN\",\"CLE\",\"COL\",\"DET\",\"FLO\",\"HOU\",\"KCA\",\"LAA\",\"LAN\",\"MIA\",\"MIL\",\"MIN\",\"ML4\",\"NYA\",\"NYN\",\"OAK\",\"PHI\",\"PIT\",\"SLN\",\"TBA\",\"TEX\",\"TOR\",\"WAS\",\"SDN\",\"COL\",\"NYA\",\"MIL\",\"OAK\",\"ATL\",\"COL\",\"DET\",\"LAN\",\"ML4\",\"MON\",\"NYA\",\"PIT\",\"SDN\",\"SLN\",\"TEX\",\"CLE\",\"SDN\",\"SFN\",\"ARI\",\"BAL\",\"BOS\",\"CAL\",\"CHA\",\"CLE\",\"COL\",\"DET\",\"FLO\",\"HOU\",\"KCA\",\"LAN\",\"MIL\",\"MON\",\"NYA\",\"OAK\",\"PHI\",\"SDN\",\"SEA\",\"SLN\",\"TEX\",\"TOR\",\"ATL\",\"CAL\",\"COL\",\"DET\",\"LAN\",\"SFN\",\"ARI\",\"ATL\",\"BOS\",\"CHN\",\"CLE\",\"SEA\",\"BAL\",\"ANA\",\"ARI\",\"ATL\",\"BAL\",\"BOS\",\"CAL\",\"CHA\",\"CHN\",\"CIN\",\"CLE\",\"COL\",\"DET\",\"FLO\",\"HOU\",\"KCA\",\"LAA\",\"LAN\",\"MIA\",\"MIL\",\"MIN\",\"ML4\",\"MON\",\"NYA\",\"NYN\",\"OAK\",\"PHI\",\"PIT\",\"SDN\",\"SEA\",\"SFN\",\"SLN\",\"TBA\",\"TEX\",\"TOR\",\"WAS\",\"SLN\",\"SDN\",\"TEX\",\"ARI\",\"ATL\",\"BOS\",\"CHA\",\"CHN\",\"CIN\",\"CLE\",\"COL\",\"DET\",\"FLO\",\"HOU\",\"KCA\",\"LAA\",\"LAN\",\"MIN\",\"MON\",\"NYA\",\"NYN\",\"PIT\",\"SDN\",\"SFN\",\"TBA\",\"TEX\",\"TOR\",\"\",\"\",\"\",\"\",\"\",\"\",\"\",\"\",\"\",\"\",\"\",\"\",\"\",\"\",\"\",\"\",\"\",\"\",\"\",\"\",\"\",\"\",\"\",\"\",\"\",\"\",\"\",\"\",\"\",\"\",\"\",\"\",\"\",\"\",\"\"],\"type\":\"treemap\",\"values\":[1,1,1,1,1,1,1,1,1,1,1,1,1,1,1,1,1,1,1,1,1,1,1,3,1,1,1,1,1,1,1,8,7,2,1,5,2,3,1,3,4,4,4,2,7,1,2,1,1,4,2,1,1,4,4,2,5,7,2,1,1,1,1,1,3,2,1,1,1,2,1,2,1,1,1,1,1,1,1,1,1,1,2,5,1,2,1,2,5,2,2,1,1,1,1,3,1,1,3,1,3,1,1,1,1,1,1,1,1,1,1,1,1,3,11,24,21,26,15,25,25,31,28,18,28,20,24,32,9,14,2,11,31,16,24,19,24,40,31,27,24,24,32,31,17,15,24,6,1,1,1,1,2,1,1,1,1,3,3,1,1,2,1,2,3,1,3,1,1,2,2,2,2,2,5,3,15,41,31,32,17,30,32,35,44,27,36,26,32,44,13,28,3,17,35,18,32,28,27,46,34,36,34,29,36,40,23,29,38,9]}],                        {\"legend\":{\"tracegroupgap\":0},\"margin\":{\"t\":60},\"template\":{\"data\":{\"bar\":[{\"error_x\":{\"color\":\"#2a3f5f\"},\"error_y\":{\"color\":\"#2a3f5f\"},\"marker\":{\"line\":{\"color\":\"#E5ECF6\",\"width\":0.5},\"pattern\":{\"fillmode\":\"overlay\",\"size\":10,\"solidity\":0.2}},\"type\":\"bar\"}],\"barpolar\":[{\"marker\":{\"line\":{\"color\":\"#E5ECF6\",\"width\":0.5},\"pattern\":{\"fillmode\":\"overlay\",\"size\":10,\"solidity\":0.2}},\"type\":\"barpolar\"}],\"carpet\":[{\"aaxis\":{\"endlinecolor\":\"#2a3f5f\",\"gridcolor\":\"white\",\"linecolor\":\"white\",\"minorgridcolor\":\"white\",\"startlinecolor\":\"#2a3f5f\"},\"baxis\":{\"endlinecolor\":\"#2a3f5f\",\"gridcolor\":\"white\",\"linecolor\":\"white\",\"minorgridcolor\":\"white\",\"startlinecolor\":\"#2a3f5f\"},\"type\":\"carpet\"}],\"choropleth\":[{\"colorbar\":{\"outlinewidth\":0,\"ticks\":\"\"},\"type\":\"choropleth\"}],\"contour\":[{\"colorbar\":{\"outlinewidth\":0,\"ticks\":\"\"},\"colorscale\":[[0.0,\"#0d0887\"],[0.1111111111111111,\"#46039f\"],[0.2222222222222222,\"#7201a8\"],[0.3333333333333333,\"#9c179e\"],[0.4444444444444444,\"#bd3786\"],[0.5555555555555556,\"#d8576b\"],[0.6666666666666666,\"#ed7953\"],[0.7777777777777778,\"#fb9f3a\"],[0.8888888888888888,\"#fdca26\"],[1.0,\"#f0f921\"]],\"type\":\"contour\"}],\"contourcarpet\":[{\"colorbar\":{\"outlinewidth\":0,\"ticks\":\"\"},\"type\":\"contourcarpet\"}],\"heatmap\":[{\"colorbar\":{\"outlinewidth\":0,\"ticks\":\"\"},\"colorscale\":[[0.0,\"#0d0887\"],[0.1111111111111111,\"#46039f\"],[0.2222222222222222,\"#7201a8\"],[0.3333333333333333,\"#9c179e\"],[0.4444444444444444,\"#bd3786\"],[0.5555555555555556,\"#d8576b\"],[0.6666666666666666,\"#ed7953\"],[0.7777777777777778,\"#fb9f3a\"],[0.8888888888888888,\"#fdca26\"],[1.0,\"#f0f921\"]],\"type\":\"heatmap\"}],\"heatmapgl\":[{\"colorbar\":{\"outlinewidth\":0,\"ticks\":\"\"},\"colorscale\":[[0.0,\"#0d0887\"],[0.1111111111111111,\"#46039f\"],[0.2222222222222222,\"#7201a8\"],[0.3333333333333333,\"#9c179e\"],[0.4444444444444444,\"#bd3786\"],[0.5555555555555556,\"#d8576b\"],[0.6666666666666666,\"#ed7953\"],[0.7777777777777778,\"#fb9f3a\"],[0.8888888888888888,\"#fdca26\"],[1.0,\"#f0f921\"]],\"type\":\"heatmapgl\"}],\"histogram\":[{\"marker\":{\"pattern\":{\"fillmode\":\"overlay\",\"size\":10,\"solidity\":0.2}},\"type\":\"histogram\"}],\"histogram2d\":[{\"colorbar\":{\"outlinewidth\":0,\"ticks\":\"\"},\"colorscale\":[[0.0,\"#0d0887\"],[0.1111111111111111,\"#46039f\"],[0.2222222222222222,\"#7201a8\"],[0.3333333333333333,\"#9c179e\"],[0.4444444444444444,\"#bd3786\"],[0.5555555555555556,\"#d8576b\"],[0.6666666666666666,\"#ed7953\"],[0.7777777777777778,\"#fb9f3a\"],[0.8888888888888888,\"#fdca26\"],[1.0,\"#f0f921\"]],\"type\":\"histogram2d\"}],\"histogram2dcontour\":[{\"colorbar\":{\"outlinewidth\":0,\"ticks\":\"\"},\"colorscale\":[[0.0,\"#0d0887\"],[0.1111111111111111,\"#46039f\"],[0.2222222222222222,\"#7201a8\"],[0.3333333333333333,\"#9c179e\"],[0.4444444444444444,\"#bd3786\"],[0.5555555555555556,\"#d8576b\"],[0.6666666666666666,\"#ed7953\"],[0.7777777777777778,\"#fb9f3a\"],[0.8888888888888888,\"#fdca26\"],[1.0,\"#f0f921\"]],\"type\":\"histogram2dcontour\"}],\"mesh3d\":[{\"colorbar\":{\"outlinewidth\":0,\"ticks\":\"\"},\"type\":\"mesh3d\"}],\"parcoords\":[{\"line\":{\"colorbar\":{\"outlinewidth\":0,\"ticks\":\"\"}},\"type\":\"parcoords\"}],\"pie\":[{\"automargin\":true,\"type\":\"pie\"}],\"scatter\":[{\"marker\":{\"colorbar\":{\"outlinewidth\":0,\"ticks\":\"\"}},\"type\":\"scatter\"}],\"scatter3d\":[{\"line\":{\"colorbar\":{\"outlinewidth\":0,\"ticks\":\"\"}},\"marker\":{\"colorbar\":{\"outlinewidth\":0,\"ticks\":\"\"}},\"type\":\"scatter3d\"}],\"scattercarpet\":[{\"marker\":{\"colorbar\":{\"outlinewidth\":0,\"ticks\":\"\"}},\"type\":\"scattercarpet\"}],\"scattergeo\":[{\"marker\":{\"colorbar\":{\"outlinewidth\":0,\"ticks\":\"\"}},\"type\":\"scattergeo\"}],\"scattergl\":[{\"marker\":{\"colorbar\":{\"outlinewidth\":0,\"ticks\":\"\"}},\"type\":\"scattergl\"}],\"scattermapbox\":[{\"marker\":{\"colorbar\":{\"outlinewidth\":0,\"ticks\":\"\"}},\"type\":\"scattermapbox\"}],\"scatterpolar\":[{\"marker\":{\"colorbar\":{\"outlinewidth\":0,\"ticks\":\"\"}},\"type\":\"scatterpolar\"}],\"scatterpolargl\":[{\"marker\":{\"colorbar\":{\"outlinewidth\":0,\"ticks\":\"\"}},\"type\":\"scatterpolargl\"}],\"scatterternary\":[{\"marker\":{\"colorbar\":{\"outlinewidth\":0,\"ticks\":\"\"}},\"type\":\"scatterternary\"}],\"surface\":[{\"colorbar\":{\"outlinewidth\":0,\"ticks\":\"\"},\"colorscale\":[[0.0,\"#0d0887\"],[0.1111111111111111,\"#46039f\"],[0.2222222222222222,\"#7201a8\"],[0.3333333333333333,\"#9c179e\"],[0.4444444444444444,\"#bd3786\"],[0.5555555555555556,\"#d8576b\"],[0.6666666666666666,\"#ed7953\"],[0.7777777777777778,\"#fb9f3a\"],[0.8888888888888888,\"#fdca26\"],[1.0,\"#f0f921\"]],\"type\":\"surface\"}],\"table\":[{\"cells\":{\"fill\":{\"color\":\"#EBF0F8\"},\"line\":{\"color\":\"white\"}},\"header\":{\"fill\":{\"color\":\"#C8D4E3\"},\"line\":{\"color\":\"white\"}},\"type\":\"table\"}]},\"layout\":{\"annotationdefaults\":{\"arrowcolor\":\"#2a3f5f\",\"arrowhead\":0,\"arrowwidth\":1},\"autotypenumbers\":\"strict\",\"coloraxis\":{\"colorbar\":{\"outlinewidth\":0,\"ticks\":\"\"}},\"colorscale\":{\"diverging\":[[0,\"#8e0152\"],[0.1,\"#c51b7d\"],[0.2,\"#de77ae\"],[0.3,\"#f1b6da\"],[0.4,\"#fde0ef\"],[0.5,\"#f7f7f7\"],[0.6,\"#e6f5d0\"],[0.7,\"#b8e186\"],[0.8,\"#7fbc41\"],[0.9,\"#4d9221\"],[1,\"#276419\"]],\"sequential\":[[0.0,\"#0d0887\"],[0.1111111111111111,\"#46039f\"],[0.2222222222222222,\"#7201a8\"],[0.3333333333333333,\"#9c179e\"],[0.4444444444444444,\"#bd3786\"],[0.5555555555555556,\"#d8576b\"],[0.6666666666666666,\"#ed7953\"],[0.7777777777777778,\"#fb9f3a\"],[0.8888888888888888,\"#fdca26\"],[1.0,\"#f0f921\"]],\"sequentialminus\":[[0.0,\"#0d0887\"],[0.1111111111111111,\"#46039f\"],[0.2222222222222222,\"#7201a8\"],[0.3333333333333333,\"#9c179e\"],[0.4444444444444444,\"#bd3786\"],[0.5555555555555556,\"#d8576b\"],[0.6666666666666666,\"#ed7953\"],[0.7777777777777778,\"#fb9f3a\"],[0.8888888888888888,\"#fdca26\"],[1.0,\"#f0f921\"]]},\"colorway\":[\"#636efa\",\"#EF553B\",\"#00cc96\",\"#ab63fa\",\"#FFA15A\",\"#19d3f3\",\"#FF6692\",\"#B6E880\",\"#FF97FF\",\"#FECB52\"],\"font\":{\"color\":\"#2a3f5f\"},\"geo\":{\"bgcolor\":\"white\",\"lakecolor\":\"white\",\"landcolor\":\"#E5ECF6\",\"showlakes\":true,\"showland\":true,\"subunitcolor\":\"white\"},\"hoverlabel\":{\"align\":\"left\"},\"hovermode\":\"closest\",\"mapbox\":{\"style\":\"light\"},\"paper_bgcolor\":\"white\",\"plot_bgcolor\":\"#E5ECF6\",\"polar\":{\"angularaxis\":{\"gridcolor\":\"white\",\"linecolor\":\"white\",\"ticks\":\"\"},\"bgcolor\":\"#E5ECF6\",\"radialaxis\":{\"gridcolor\":\"white\",\"linecolor\":\"white\",\"ticks\":\"\"}},\"scene\":{\"xaxis\":{\"backgroundcolor\":\"#E5ECF6\",\"gridcolor\":\"white\",\"gridwidth\":2,\"linecolor\":\"white\",\"showbackground\":true,\"ticks\":\"\",\"zerolinecolor\":\"white\"},\"yaxis\":{\"backgroundcolor\":\"#E5ECF6\",\"gridcolor\":\"white\",\"gridwidth\":2,\"linecolor\":\"white\",\"showbackground\":true,\"ticks\":\"\",\"zerolinecolor\":\"white\"},\"zaxis\":{\"backgroundcolor\":\"#E5ECF6\",\"gridcolor\":\"white\",\"gridwidth\":2,\"linecolor\":\"white\",\"showbackground\":true,\"ticks\":\"\",\"zerolinecolor\":\"white\"}},\"shapedefaults\":{\"line\":{\"color\":\"#2a3f5f\"}},\"ternary\":{\"aaxis\":{\"gridcolor\":\"white\",\"linecolor\":\"white\",\"ticks\":\"\"},\"baxis\":{\"gridcolor\":\"white\",\"linecolor\":\"white\",\"ticks\":\"\"},\"bgcolor\":\"#E5ECF6\",\"caxis\":{\"gridcolor\":\"white\",\"linecolor\":\"white\",\"ticks\":\"\"}},\"title\":{\"x\":0.05},\"xaxis\":{\"automargin\":true,\"gridcolor\":\"white\",\"linecolor\":\"white\",\"ticks\":\"\",\"title\":{\"standoff\":15},\"zerolinecolor\":\"white\",\"zerolinewidth\":2},\"yaxis\":{\"automargin\":true,\"gridcolor\":\"white\",\"linecolor\":\"white\",\"ticks\":\"\",\"title\":{\"standoff\":15},\"zerolinecolor\":\"white\",\"zerolinewidth\":2}}}},                        {\"responsive\": true}                    ).then(function(){\n",
       "                            \n",
       "var gd = document.getElementById('5e289078-bbb8-47f9-808d-98762d52cf9f');\n",
       "var x = new MutationObserver(function (mutations, observer) {{\n",
       "        var display = window.getComputedStyle(gd).display;\n",
       "        if (!display || display === 'none') {{\n",
       "            console.log([gd, 'removed!']);\n",
       "            Plotly.purge(gd);\n",
       "            observer.disconnect();\n",
       "        }}\n",
       "}});\n",
       "\n",
       "// Listen for the removal of the full notebook cells\n",
       "var notebookContainer = gd.closest('#notebook-container');\n",
       "if (notebookContainer) {{\n",
       "    x.observe(notebookContainer, {childList: true});\n",
       "}}\n",
       "\n",
       "// Listen for the clearing of the current output cell\n",
       "var outputEl = gd.closest('.output');\n",
       "if (outputEl) {{\n",
       "    x.observe(outputEl, {childList: true});\n",
       "}}\n",
       "\n",
       "                        })                };                });            </script>        </div>"
      ]
     },
     "metadata": {},
     "output_type": "display_data"
    }
   ],
   "source": [
    "fig = px.treemap(df_salaries_treemap, path=['Equipo', 'Nacionalidad'], values='count')\n",
    "\n",
    "fig.show()"
   ]
  },
  {
   "cell_type": "code",
   "execution_count": null,
   "id": "4a04cd21-9b4b-4f1b-af81-3106e182dcb3",
   "metadata": {},
   "outputs": [],
   "source": []
  }
 ],
 "metadata": {
  "kernelspec": {
   "display_name": "Python 3",
   "language": "python",
   "name": "python3"
  },
  "language_info": {
   "codemirror_mode": {
    "name": "ipython",
    "version": 3
   },
   "file_extension": ".py",
   "mimetype": "text/x-python",
   "name": "python",
   "nbconvert_exporter": "python",
   "pygments_lexer": "ipython3",
   "version": "3.9.1"
  }
 },
 "nbformat": 4,
 "nbformat_minor": 5
}
